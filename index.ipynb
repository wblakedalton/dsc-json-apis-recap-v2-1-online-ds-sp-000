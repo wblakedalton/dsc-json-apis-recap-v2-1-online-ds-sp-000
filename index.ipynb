{
 "cells": [
  {
   "cell_type": "markdown",
   "metadata": {},
   "source": [
    "# JSON and APIs - Recap\n",
    "\n",
    "## Introduction\n",
    "In this section, you learned about the JSON file format, how to parse and navigate JSON files using the `json` Python module. You also learned about the HTTP request/response cycle and using APIs. APIs are critical to software development, and they can be powerful tools for gathering data for data scientists.\n",
    "\n",
    "Before JSON files were widely adopted, XML files were used. You'll have a chance to learn about XML files in the Appendix for this section.\n",
    "\n",
    " \n",
    "\n",
    "## Key Takeaways\n",
    "\n",
    "In this section, we dug into a key format for storing and transferring data between applications - the JSON file format. We also covered APIs, which can provide access to a wide range of data that you might need as a data scientist.\n",
    "\n",
    "Key takeaways include:\n",
    "\n",
    "* JSON (JavaScript Object Notation) is a widely adopted format for storing and accessing data. It requires slightly less typing than XML to represent the same information so it has become increasingly popular over the last 10-15 years. \n",
    "\n",
    "* The JSON standard library in Python, `json`, is used for interacting with JSON data: https://docs.python.org/3.6/library/json.html\n",
    "\n",
    "* While there are many other kinds of APIs, as a data scientist, you'll typically be working with web APIs. \n",
    "\n",
    "* The `requests` library in Python is a great starting point for making HTTP requests to APIs. \n",
    "\n",
    "* The two most common HTTP methods you'll use when accessing APIs are GET (to retrieve information) and POST (to send information). \n",
    "\n",
    "* Typically, you'll need to authenticate in some manner to gain access to most APIs - one common method for doing so is using OAuth. "
   ]
  }
 ],
 "metadata": {
  "kernelspec": {
   "display_name": "Python 3",
   "language": "python",
   "name": "python3"
  },
  "language_info": {
   "codemirror_mode": {
    "name": "ipython",
    "version": 3
   },
   "file_extension": ".py",
   "mimetype": "text/x-python",
   "name": "python",
   "nbconvert_exporter": "python",
   "pygments_lexer": "ipython3",
   "version": "3.6.9"
  },
  "toc": {
   "base_numbering": 1,
   "nav_menu": {},
   "number_sections": true,
   "sideBar": true,
   "skip_h1_title": false,
   "title_cell": "Table of Contents",
   "title_sidebar": "Contents",
   "toc_cell": false,
   "toc_position": {},
   "toc_section_display": true,
   "toc_window_display": false
  }
 },
 "nbformat": 4,
 "nbformat_minor": 2
}
